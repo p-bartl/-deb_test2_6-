{
 "cells": [
  {
   "cell_type": "markdown",
   "metadata": {
    "editable": true
   },
   "source": [
    "## Workspace Instructions\n",
    "\n",
    "The Angular CLI has been installed and is ready to use! Follow these quick steps to get your application up and running:\n",
    "\n",
    "1. To initialize the Workspace, click the `SET UP WORKSPACE` button.\n",
    "2. To serve an Angular application: After scaffolding a new Angular application, `cd` into its root directory, then click the `START ANGULAR` button.\n",
    "3. To open an Angular application in a browser window, click on `OPEN APP`.\n",
    "\n",
    "## Exercise Instructions\n",
    "\n",
    "Aside from simpling fetching data, services also benefit an Angular application by allowing data to be shared between two (or more) unrelated components. In this Exercise, you'll create a service that can fetch and modify a list of bookmarked links added by the user.\n",
    "\n",
    "Note that this Exercise can prove to be one of the more challenging Exercises you've seen in this course. As such, the starter code contains many comments to help guide you along the way.\n",
    "\n",
    "1. Navigate to the project in the `Starter` folder, then run `npm install`.\n",
    "2. Review the two included components, `Directory` and `Bookmarks`. What do their component classes look like? What about their templates? What are their intended functions?\n",
    "3. Generate a service, `Bookmark`, that contains three methods:\n",
    "  - getBookmarks(), which returns the items currently bookmarked\n",
    "  - addToBookmarks(), which adds a single item to the bookmarks list\n",
    "  - clearBookmarks(), which resets the list of the items currently bookmarked\n",
    "4. Open the `Directory` component class.\n",
    "5. Import and inject the `Bookmark` service, and create an `addToBookmarks()` method that calls the service's `addToBookmarks()` method.\n",
    "6. Open the `Directory` component's template.\n",
    "7. Edit the button to listen for, and respond to a click event.\n",
    "8. Open the `Bookmarks` component class.\n",
    "9. Import and inject the `Bookmark` service\n",
    "10. Create a `clearBookmarks()` method that calls the service's `clearBookmarks()` method, then clears the local `bookmarkList` array.\n",
    "11. Open the `Bookmarks` component's template.\n",
    "12. Edit the button to listen for, and respond to a click event.\n",
    "13. Serve the application on port `3000` (or click `Start Angular` if using this Workspace) to view the `Directory` component in the browser! "
   ]
  },
  {
   "cell_type": "markdown",
   "metadata": {
    "editable": true,
    "ulab": {
     "buttons": {
      "ulab-button-b45c859f": {
       "bashCommand": "source setup_node.sh",
       "filesToOpen": [],
       "isPreviewButton": false,
       "runInBackground": false,
       "style": "primary",
       "text": "SET UP WORKSPACE",
       "toggleOffText": "HIDE SOLUTION",
       "toggleOnText": "SHOW SOLUTION"
      }
     }
    }
   },
   "source": [
    "<button id=\"ulab-button-b45c859f\" class=\"ulab-btn--primary\"></button>"
   ]
  },
  {
   "cell_type": "markdown",
   "metadata": {
    "editable": true,
    "ulab": {
     "buttons": {
      "ulab-button-29be98dd": {
       "bashCommand": "ng serve --port 3000 --host 0.0.0.0 --disableHostCheck true",
       "filesToOpen": [],
       "isPreviewButton": false,
       "runInBackground": false,
       "style": "primary",
       "text": "START ANGULAR",
       "toggleOffText": "HIDE SOLUTION",
       "toggleOnText": "SHOW SOLUTION"
      },
      "ulab-button-34c8e873": {
       "bashCommand": "",
       "filesToOpen": [],
       "isPreviewButton": true,
       "runInBackground": false,
       "style": "primary",
       "text": "OPEN APP",
       "toggleOffText": "HIDE SOLUTION",
       "toggleOnText": "SHOW SOLUTION"
      }
     }
    }
   },
   "source": [
    "<button id=\"ulab-button-29be98dd\" class=\"ulab-btn--primary\"></button>"
   ]
  },
  {
   "cell_type": "markdown",
   "metadata": {
    "editable": true,
    "ulab": {
     "buttons": {
      "ulab-button-b3f3478d": {
       "bashCommand": "",
       "filesToOpen": [],
       "isPreviewButton": true,
       "runInBackground": false,
       "style": "primary",
       "text": "OPEN APP",
       "toggleOffText": "HIDE SOLUTION",
       "toggleOnText": "SHOW SOLUTION"
      }
     }
    }
   },
   "source": [
    "<button id=\"ulab-button-b3f3478d\" class=\"ulab-btn--primary\"></button>"
   ]
  }
 ],
 "metadata": {
  "kernelspec": {
   "display_name": "Python 3",
   "language": "python",
   "name": "python3"
  },
  "language_info": {
   "codemirror_mode": {
    "name": "ipython",
    "version": 3
   },
   "file_extension": ".py",
   "mimetype": "text/x-python",
   "name": "python",
   "nbconvert_exporter": "python",
   "pygments_lexer": "ipython3",
   "version": "3.6.3"
  },
  "ulab_nb_type": "guided"
 },
 "nbformat": 4,
 "nbformat_minor": 4
}
